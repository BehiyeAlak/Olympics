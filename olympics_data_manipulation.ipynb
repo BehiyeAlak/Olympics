{
 "cells": [
  {
   "cell_type": "code",
   "execution_count": 67,
   "id": "f854898d",
   "metadata": {},
   "outputs": [],
   "source": [
    "import numpy as np\n",
    "import pandas as pd"
   ]
  },
  {
   "cell_type": "code",
   "execution_count": 68,
   "id": "7152e1e1",
   "metadata": {},
   "outputs": [],
   "source": [
    "summer = pd.read_csv('https://raw.githubusercontent.com/cads-tedu/DSPG/master/Veri%20Setleri/Olimpiyatlar/summer.csv')\n",
    "winter = pd.read_csv('https://raw.githubusercontent.com/cads-tedu/DSPG/master/Veri%20Setleri/Olimpiyatlar/winter.csv')\n",
    "tag = pd.read_csv('https://raw.githubusercontent.com/cads-tedu/DSPG/master/Veri%20Setleri/Olimpiyatlar/dictionary.csv')"
   ]
  },
  {
   "cell_type": "code",
   "execution_count": 69,
   "id": "76bb28a7",
   "metadata": {},
   "outputs": [],
   "source": [
    "summer.rename(columns = {'Country':'Code'}, inplace = True)\n",
    "winter.rename(columns = {'Country':'Code'}, inplace = True)\n",
    "tag.rename(columns = {'GDP per Capita':'GDP'}, inplace = True)"
   ]
  },
  {
   "cell_type": "code",
   "execution_count": 70,
   "id": "f62759e9",
   "metadata": {},
   "outputs": [],
   "source": [
    "#Create our own index for the summer and winter Olympics datasets. This index includes the year and city of the Olympics. \n",
    "#For example \"1896_Athens\"\n",
    "\n",
    "summer['Indeks'] = summer['Year'].astype('string') + '_' + summer['City'].astype('string')\n",
    "winter['Indeks'] = winter['Year'].astype('string') + '_' + winter['City'].astype('string')\n",
    "summer.set_index('Indeks', inplace = True)\n",
    "winter.set_index('Indeks', inplace = True)"
   ]
  },
  {
   "cell_type": "code",
   "execution_count": 71,
   "id": "76485c2d",
   "metadata": {},
   "outputs": [],
   "source": [
    "#Form the surnames (words before the comma) in the names of the athletes competing in the summer and winter \n",
    "#Olympics to form a new column called \"Surname\"\n",
    "\n",
    "def surname(x):\n",
    "    return x[0]\n",
    "\n",
    "summer['Surname'] = summer['Athlete'].str.split(',').apply(lambda x: x[0])\n",
    "winter['Surname'] = winter['Athlete'].str.split(',').apply(lambda x: x[0])"
   ]
  },
  {
   "cell_type": "code",
   "execution_count": 72,
   "id": "d39cf7fa",
   "metadata": {},
   "outputs": [
    {
     "data": {
      "text/plain": [
       "Year          0\n",
       "City          0\n",
       "Sport         0\n",
       "Discipline    0\n",
       "Athlete       0\n",
       "Code          4\n",
       "Gender        0\n",
       "Event         0\n",
       "Medal         0\n",
       "Surname       0\n",
       "dtype: int64"
      ]
     },
     "metadata": {},
     "output_type": "display_data"
    },
    {
     "data": {
      "text/plain": [
       "Year          0\n",
       "City          0\n",
       "Sport         0\n",
       "Discipline    0\n",
       "Athlete       0\n",
       "Code          0\n",
       "Gender        0\n",
       "Event         0\n",
       "Medal         0\n",
       "Surname       0\n",
       "dtype: int64"
      ]
     },
     "metadata": {},
     "output_type": "display_data"
    },
    {
     "data": {
      "text/plain": [
       "Country        0\n",
       "Code           0\n",
       "Population     5\n",
       "GDP           25\n",
       "dtype: int64"
      ]
     },
     "metadata": {},
     "output_type": "display_data"
    }
   ],
   "source": [
    "#Missing observations in columns in all datasets\n",
    "\n",
    "display(summer.isna().sum())\n",
    "display(winter.isna().sum())\n",
    "display(tag.isna().sum())\n"
   ]
  },
  {
   "cell_type": "code",
   "execution_count": 73,
   "id": "1cba1d0e",
   "metadata": {},
   "outputs": [],
   "source": [
    "#We need to find which country has no population. After that, we look at these variables \n",
    "#on https://www.worldometers.info/world-population/population-by-country/ and add to data.\n",
    "\n",
    "tag[tag['Population'].isna()]\n",
    "tag.loc[[45,61,139,177], \"Population\"] = [17564, 3546421, 5101414, 23816775]\n"
   ]
  },
  {
   "cell_type": "code",
   "execution_count": 74,
   "id": "bfe9eb88",
   "metadata": {},
   "outputs": [
    {
     "data": {
      "text/html": [
       "<div>\n",
       "<style scoped>\n",
       "    .dataframe tbody tr th:only-of-type {\n",
       "        vertical-align: middle;\n",
       "    }\n",
       "\n",
       "    .dataframe tbody tr th {\n",
       "        vertical-align: top;\n",
       "    }\n",
       "\n",
       "    .dataframe thead th {\n",
       "        text-align: right;\n",
       "    }\n",
       "</style>\n",
       "<table border=\"1\" class=\"dataframe\">\n",
       "  <thead>\n",
       "    <tr style=\"text-align: right;\">\n",
       "      <th></th>\n",
       "      <th>Code</th>\n",
       "      <th>Surname</th>\n",
       "      <th>Discipline</th>\n",
       "    </tr>\n",
       "    <tr>\n",
       "      <th>Indeks</th>\n",
       "      <th></th>\n",
       "      <th></th>\n",
       "      <th></th>\n",
       "    </tr>\n",
       "  </thead>\n",
       "  <tbody>\n",
       "    <tr>\n",
       "      <th>2012_London</th>\n",
       "      <td>NaN</td>\n",
       "      <td>Pending</td>\n",
       "      <td>Athletics</td>\n",
       "    </tr>\n",
       "    <tr>\n",
       "      <th>2012_London</th>\n",
       "      <td>NaN</td>\n",
       "      <td>Pending</td>\n",
       "      <td>Weightlifting</td>\n",
       "    </tr>\n",
       "    <tr>\n",
       "      <th>2012_London</th>\n",
       "      <td>NaN</td>\n",
       "      <td>Pending</td>\n",
       "      <td>Weightlifting</td>\n",
       "    </tr>\n",
       "    <tr>\n",
       "      <th>2012_London</th>\n",
       "      <td>NaN</td>\n",
       "      <td>KUDUKHOV</td>\n",
       "      <td>Wrestling Freestyle</td>\n",
       "    </tr>\n",
       "  </tbody>\n",
       "</table>\n",
       "</div>"
      ],
      "text/plain": [
       "            Code   Surname           Discipline\n",
       "Indeks                                         \n",
       "2012_London  NaN   Pending            Athletics\n",
       "2012_London  NaN   Pending        Weightlifting\n",
       "2012_London  NaN   Pending        Weightlifting\n",
       "2012_London  NaN  KUDUKHOV  Wrestling Freestyle"
      ]
     },
     "execution_count": 74,
     "metadata": {},
     "output_type": "execute_result"
    }
   ],
   "source": [
    "#We see that 4 athletes do not have a country code in the summer Olympics. What is the last name of these athletes \n",
    "#and the discipline they compete in? Let's select the column of country code, athlete last name and the discipline \n",
    "#they competed in and assign it to a new variable named \"missing_surname\"\n",
    "\n",
    "missing_surname = summer[['Code', 'Surname', 'Discipline']]\n",
    "missing_surname[missing_surname['Code'].isna()]\n",
    "\n",
    "#We see that the names of 3 athletes have not been specified yet, and the country code of 1 athlete has not been entered."
   ]
  },
  {
   "cell_type": "code",
   "execution_count": 75,
   "id": "cb0f2cd7",
   "metadata": {},
   "outputs": [
    {
     "data": {
      "text/plain": [
       "2014"
      ]
     },
     "execution_count": 75,
     "metadata": {},
     "output_type": "execute_result"
    }
   ],
   "source": [
    "#According to these datasets, in which year were the summer and winter Olympics held for the first and last time?\n",
    "\n",
    "summer['Year'].max()\n",
    "summer['Year'].min()\n",
    "winter['Year'].max()\n",
    "winter['Year'].min()\n",
    "\n",
    "#or\n",
    "\n",
    "summer['Year'].sort_values()[0]\n",
    "summer['Year'].sort_values()[-1]\n",
    "winter['Year'].sort_values()[0]\n",
    "winter['Year'].sort_values()[-1]"
   ]
  },
  {
   "cell_type": "code",
   "execution_count": 76,
   "id": "72cb0702",
   "metadata": {},
   "outputs": [
    {
     "data": {
      "text/plain": [
       "22"
      ]
     },
     "execution_count": 76,
     "metadata": {},
     "output_type": "execute_result"
    }
   ],
   "source": [
    "#How many summer and winter Olympics have been held so far?\n",
    "\n",
    "summer['Year'].nunique()\n",
    "len(summer['Year'].unique())\n",
    "\n",
    "winter['Year'].nunique()\n",
    "len(winter['Year'].unique())"
   ]
  },
  {
   "cell_type": "code",
   "execution_count": 77,
   "id": "0f22c32d",
   "metadata": {},
   "outputs": [
    {
     "data": {
      "text/html": [
       "<div>\n",
       "<style scoped>\n",
       "    .dataframe tbody tr th:only-of-type {\n",
       "        vertical-align: middle;\n",
       "    }\n",
       "\n",
       "    .dataframe tbody tr th {\n",
       "        vertical-align: top;\n",
       "    }\n",
       "\n",
       "    .dataframe thead th {\n",
       "        text-align: right;\n",
       "    }\n",
       "</style>\n",
       "<table border=\"1\" class=\"dataframe\">\n",
       "  <thead>\n",
       "    <tr style=\"text-align: right;\">\n",
       "      <th></th>\n",
       "      <th>Year</th>\n",
       "      <th>Sport</th>\n",
       "      <th>Discipline</th>\n",
       "      <th>Athlete</th>\n",
       "      <th>Code</th>\n",
       "      <th>Gender</th>\n",
       "      <th>Event</th>\n",
       "      <th>Medal</th>\n",
       "      <th>Surname</th>\n",
       "    </tr>\n",
       "    <tr>\n",
       "      <th>City</th>\n",
       "      <th></th>\n",
       "      <th></th>\n",
       "      <th></th>\n",
       "      <th></th>\n",
       "      <th></th>\n",
       "      <th></th>\n",
       "      <th></th>\n",
       "      <th></th>\n",
       "      <th></th>\n",
       "    </tr>\n",
       "  </thead>\n",
       "  <tbody>\n",
       "    <tr>\n",
       "      <th>Innsbruck</th>\n",
       "      <td>2</td>\n",
       "      <td>6</td>\n",
       "      <td>10</td>\n",
       "      <td>330</td>\n",
       "      <td>18</td>\n",
       "      <td>2</td>\n",
       "      <td>29</td>\n",
       "      <td>3</td>\n",
       "      <td>316</td>\n",
       "    </tr>\n",
       "    <tr>\n",
       "      <th>Lake Placid</th>\n",
       "      <td>2</td>\n",
       "      <td>6</td>\n",
       "      <td>10</td>\n",
       "      <td>291</td>\n",
       "      <td>20</td>\n",
       "      <td>2</td>\n",
       "      <td>29</td>\n",
       "      <td>3</td>\n",
       "      <td>278</td>\n",
       "    </tr>\n",
       "    <tr>\n",
       "      <th>St.Moritz</th>\n",
       "      <td>2</td>\n",
       "      <td>4</td>\n",
       "      <td>9</td>\n",
       "      <td>209</td>\n",
       "      <td>14</td>\n",
       "      <td>2</td>\n",
       "      <td>17</td>\n",
       "      <td>3</td>\n",
       "      <td>189</td>\n",
       "    </tr>\n",
       "  </tbody>\n",
       "</table>\n",
       "</div>"
      ],
      "text/plain": [
       "             Year  Sport  Discipline  Athlete  Code  Gender  Event  Medal  \\\n",
       "City                                                                        \n",
       "Innsbruck       2      6          10      330    18       2     29      3   \n",
       "Lake Placid     2      6          10      291    20       2     29      3   \n",
       "St.Moritz       2      4           9      209    14       2     17      3   \n",
       "\n",
       "             Surname  \n",
       "City                  \n",
       "Innsbruck        316  \n",
       "Lake Placid      278  \n",
       "St.Moritz        189  "
      ]
     },
     "execution_count": 77,
     "metadata": {},
     "output_type": "execute_result"
    }
   ],
   "source": [
    "# In which cities more than 1 Olympics were held in the summer and winter Olympics?\n",
    "\n",
    "summer.groupby('Year')['City'].unique()[summer.groupby('Year')['City'].unique().duplicated()]\n",
    "winter.groupby('Year')['City'].unique()[winter.groupby('Year')['City'].unique().duplicated()]\n",
    "\n",
    "#or\n",
    "\n",
    "summer.groupby('City').nunique()[summer.groupby('City').nunique().Year > 1]\n",
    "winter.groupby('City').nunique()[winter.groupby('City').nunique().Year > 1]"
   ]
  },
  {
   "cell_type": "code",
   "execution_count": 78,
   "id": "7f41cd9f",
   "metadata": {},
   "outputs": [
    {
     "data": {
      "text/plain": [
       "Men      0.729857\n",
       "Women    0.270143\n",
       "Name: Gender, dtype: float64"
      ]
     },
     "execution_count": 78,
     "metadata": {},
     "output_type": "execute_result"
    }
   ],
   "source": [
    "#What is the number and proportion of male and female athletes competing in the summer Olympics?\n",
    "summer['Gender'].value_counts()\n",
    "summer.groupby('Gender')['Gender'].count()\n",
    "summer['Gender'].value_counts()/len(summer)\n",
    "summer['Gender'].value_counts(normalize = True)\n"
   ]
  },
  {
   "cell_type": "code",
   "execution_count": 79,
   "id": "51160f09",
   "metadata": {},
   "outputs": [
    {
     "data": {
      "text/plain": [
       "Men      0.683536\n",
       "Women    0.316464\n",
       "Name: Gender, dtype: float64"
      ]
     },
     "execution_count": 79,
     "metadata": {},
     "output_type": "execute_result"
    }
   ],
   "source": [
    "#What is the number and proportion of male and female athletes competing in the winter Olympics?\n",
    "\n",
    "winter['Gender'].value_counts()\n",
    "winter.groupby('Gender')['Gender'].count()\n",
    "winter['Gender'].value_counts()/len(winter)\n",
    "winter['Gender'].value_counts(normalize = True)"
   ]
  },
  {
   "cell_type": "code",
   "execution_count": 80,
   "id": "ac83b177",
   "metadata": {},
   "outputs": [
    {
     "data": {
      "text/html": [
       "<div>\n",
       "<style scoped>\n",
       "    .dataframe tbody tr th:only-of-type {\n",
       "        vertical-align: middle;\n",
       "    }\n",
       "\n",
       "    .dataframe tbody tr th {\n",
       "        vertical-align: top;\n",
       "    }\n",
       "\n",
       "    .dataframe thead th {\n",
       "        text-align: right;\n",
       "    }\n",
       "</style>\n",
       "<table border=\"1\" class=\"dataframe\">\n",
       "  <thead>\n",
       "    <tr style=\"text-align: right;\">\n",
       "      <th>Gender</th>\n",
       "      <th>Men</th>\n",
       "      <th>Women</th>\n",
       "    </tr>\n",
       "    <tr>\n",
       "      <th>Gender</th>\n",
       "      <th></th>\n",
       "      <th></th>\n",
       "    </tr>\n",
       "  </thead>\n",
       "  <tbody>\n",
       "    <tr>\n",
       "      <th>Men</th>\n",
       "      <td>22746</td>\n",
       "      <td>0</td>\n",
       "    </tr>\n",
       "    <tr>\n",
       "      <th>Women</th>\n",
       "      <td>0</td>\n",
       "      <td>8419</td>\n",
       "    </tr>\n",
       "  </tbody>\n",
       "</table>\n",
       "</div>"
      ],
      "text/plain": [
       "Gender    Men  Women\n",
       "Gender              \n",
       "Men     22746      0\n",
       "Women       0   8419"
      ]
     },
     "execution_count": 80,
     "metadata": {},
     "output_type": "execute_result"
    }
   ],
   "source": [
    "##What is the number and proportion of male and female athletes competing in the summer and winter Olympics?\n",
    "\n",
    "pd.crosstab(summer['Gender'], summer['Gender'])"
   ]
  },
  {
   "cell_type": "code",
   "execution_count": 81,
   "id": "ca9d2b3e",
   "metadata": {},
   "outputs": [
    {
     "data": {
      "text/plain": [
       "Women    0.536443\n",
       "Men      0.463557\n",
       "Name: Gender, dtype: float64"
      ]
     },
     "execution_count": 81,
     "metadata": {},
     "output_type": "execute_result"
    }
   ],
   "source": [
    "#What is the gender distribution of the athletes competing in the \"Aquatics\" branch in the Olympics \n",
    "#held in Athens in the summer Olympics?\n",
    "\n",
    "summer[(summer['City']=='Athens') & (summer['Sport'] == 'Aquatics')]['Gender'].value_counts(normalize = True)\n",
    "\n",
    "#or\n",
    "\n",
    "summer.loc[(summer['City']=='Athens') & (summer['Sport'] == 'Aquatics'), 'Gender'].value_counts(normalize = True)"
   ]
  },
  {
   "cell_type": "code",
   "execution_count": 82,
   "id": "8ba6f5f7",
   "metadata": {},
   "outputs": [
    {
     "data": {
      "text/plain": [
       "Sport       Discipline                 Medal \n",
       "Biathlon    Biathlon                   Bronze    20\n",
       "                                       Gold      20\n",
       "                                       Silver    20\n",
       "Bobsleigh   Bobsleigh                  Bronze     8\n",
       "                                       Gold       8\n",
       "                                       Silver     8\n",
       "            Skeleton                   Bronze     2\n",
       "                                       Gold       2\n",
       "                                       Silver     2\n",
       "Curling     Curling                    Bronze    10\n",
       "                                       Gold      10\n",
       "                                       Silver    10\n",
       "Ice Hockey  Ice Hockey                 Bronze    46\n",
       "                                       Gold      46\n",
       "                                       Silver    46\n",
       "Luge        Luge                       Bronze     8\n",
       "                                       Gold       8\n",
       "                                       Silver     8\n",
       "Skating     Figure skating             Gold      16\n",
       "                                       Silver    15\n",
       "                                       Bronze    14\n",
       "            Short Track Speed Skating  Bronze    15\n",
       "                                       Gold      15\n",
       "                                       Silver    14\n",
       "            Speed skating              Bronze    17\n",
       "                                       Gold      17\n",
       "                                       Silver    17\n",
       "Skiing      Alpine Skiing              Bronze    11\n",
       "                                       Gold      11\n",
       "                                       Silver     9\n",
       "            Cross Country Skiing       Bronze    20\n",
       "                                       Gold      20\n",
       "                                       Silver    20\n",
       "            Freestyle Skiing           Bronze    10\n",
       "                                       Gold      10\n",
       "                                       Silver    10\n",
       "            Nordic Combined            Bronze     6\n",
       "                                       Gold       6\n",
       "                                       Silver     6\n",
       "            Ski Jumping                Bronze     7\n",
       "                                       Gold       7\n",
       "                                       Silver     7\n",
       "            Snowboard                  Bronze    10\n",
       "                                       Gold      10\n",
       "                                       Silver    10\n",
       "Name: Medal, dtype: int64"
      ]
     },
     "execution_count": 82,
     "metadata": {},
     "output_type": "execute_result"
    }
   ],
   "source": [
    "#How many gold, silver and bronze medals were distributed in which disciplines of which sports branches \n",
    "#in the 2014 Winter Olympics held in Sochi?\n",
    "\n",
    "winter[winter.index == '2014_Sochi'].groupby(['Sport', 'Discipline'])['Medal'].value_counts()\n",
    "\n",
    "#or\n",
    "\n",
    "winter.loc[\"2014_Sochi\"].groupby([\"Sport\", \"Discipline\"])[\"Medal\"].value_counts()"
   ]
  },
  {
   "cell_type": "code",
   "execution_count": 83,
   "id": "88ad074e",
   "metadata": {},
   "outputs": [
    {
     "data": {
      "text/html": [
       "<div>\n",
       "<style scoped>\n",
       "    .dataframe tbody tr th:only-of-type {\n",
       "        vertical-align: middle;\n",
       "    }\n",
       "\n",
       "    .dataframe tbody tr th {\n",
       "        vertical-align: top;\n",
       "    }\n",
       "\n",
       "    .dataframe thead th {\n",
       "        text-align: right;\n",
       "    }\n",
       "</style>\n",
       "<table border=\"1\" class=\"dataframe\">\n",
       "  <thead>\n",
       "    <tr style=\"text-align: right;\">\n",
       "      <th></th>\n",
       "      <th>Year</th>\n",
       "      <th>City</th>\n",
       "      <th>Sport</th>\n",
       "      <th>Discipline</th>\n",
       "      <th>Athlete</th>\n",
       "      <th>Code</th>\n",
       "      <th>Gender</th>\n",
       "      <th>Event</th>\n",
       "      <th>Medal</th>\n",
       "      <th>Surname</th>\n",
       "    </tr>\n",
       "    <tr>\n",
       "      <th>Indeks</th>\n",
       "      <th></th>\n",
       "      <th></th>\n",
       "      <th></th>\n",
       "      <th></th>\n",
       "      <th></th>\n",
       "      <th></th>\n",
       "      <th></th>\n",
       "      <th></th>\n",
       "      <th></th>\n",
       "      <th></th>\n",
       "    </tr>\n",
       "  </thead>\n",
       "  <tbody>\n",
       "    <tr>\n",
       "      <th>1896_Athens</th>\n",
       "      <td>1896</td>\n",
       "      <td>Athens</td>\n",
       "      <td>Aquatics</td>\n",
       "      <td>Swimming</td>\n",
       "      <td>HAJOS, Alfred</td>\n",
       "      <td>HUN</td>\n",
       "      <td>Men</td>\n",
       "      <td>100M Freestyle</td>\n",
       "      <td>Gold</td>\n",
       "      <td>HAJOS</td>\n",
       "    </tr>\n",
       "    <tr>\n",
       "      <th>1896_Athens</th>\n",
       "      <td>1896</td>\n",
       "      <td>Athens</td>\n",
       "      <td>Aquatics</td>\n",
       "      <td>Swimming</td>\n",
       "      <td>HERSCHMANN, Otto</td>\n",
       "      <td>AUT</td>\n",
       "      <td>Men</td>\n",
       "      <td>100M Freestyle</td>\n",
       "      <td>Silver</td>\n",
       "      <td>HERSCHMANN</td>\n",
       "    </tr>\n",
       "    <tr>\n",
       "      <th>1896_Athens</th>\n",
       "      <td>1896</td>\n",
       "      <td>Athens</td>\n",
       "      <td>Aquatics</td>\n",
       "      <td>Swimming</td>\n",
       "      <td>DRIVAS, Dimitrios</td>\n",
       "      <td>GRE</td>\n",
       "      <td>Men</td>\n",
       "      <td>100M Freestyle For Sailors</td>\n",
       "      <td>Bronze</td>\n",
       "      <td>DRIVAS</td>\n",
       "    </tr>\n",
       "    <tr>\n",
       "      <th>1896_Athens</th>\n",
       "      <td>1896</td>\n",
       "      <td>Athens</td>\n",
       "      <td>Aquatics</td>\n",
       "      <td>Swimming</td>\n",
       "      <td>MALOKINIS, Ioannis</td>\n",
       "      <td>GRE</td>\n",
       "      <td>Men</td>\n",
       "      <td>100M Freestyle For Sailors</td>\n",
       "      <td>Gold</td>\n",
       "      <td>MALOKINIS</td>\n",
       "    </tr>\n",
       "    <tr>\n",
       "      <th>1896_Athens</th>\n",
       "      <td>1896</td>\n",
       "      <td>Athens</td>\n",
       "      <td>Aquatics</td>\n",
       "      <td>Swimming</td>\n",
       "      <td>CHASAPIS, Spiridon</td>\n",
       "      <td>GRE</td>\n",
       "      <td>Men</td>\n",
       "      <td>100M Freestyle For Sailors</td>\n",
       "      <td>Silver</td>\n",
       "      <td>CHASAPIS</td>\n",
       "    </tr>\n",
       "    <tr>\n",
       "      <th>...</th>\n",
       "      <td>...</td>\n",
       "      <td>...</td>\n",
       "      <td>...</td>\n",
       "      <td>...</td>\n",
       "      <td>...</td>\n",
       "      <td>...</td>\n",
       "      <td>...</td>\n",
       "      <td>...</td>\n",
       "      <td>...</td>\n",
       "      <td>...</td>\n",
       "    </tr>\n",
       "    <tr>\n",
       "      <th>2014_Sochi</th>\n",
       "      <td>2014</td>\n",
       "      <td>Sochi</td>\n",
       "      <td>Skiing</td>\n",
       "      <td>Snowboard</td>\n",
       "      <td>JONES, Jenny</td>\n",
       "      <td>GBR</td>\n",
       "      <td>Women</td>\n",
       "      <td>Slopestyle</td>\n",
       "      <td>Bronze</td>\n",
       "      <td>JONES</td>\n",
       "    </tr>\n",
       "    <tr>\n",
       "      <th>2014_Sochi</th>\n",
       "      <td>2014</td>\n",
       "      <td>Sochi</td>\n",
       "      <td>Skiing</td>\n",
       "      <td>Snowboard</td>\n",
       "      <td>ANDERSON, Jamie</td>\n",
       "      <td>USA</td>\n",
       "      <td>Women</td>\n",
       "      <td>Slopestyle</td>\n",
       "      <td>Gold</td>\n",
       "      <td>ANDERSON</td>\n",
       "    </tr>\n",
       "    <tr>\n",
       "      <th>2014_Sochi</th>\n",
       "      <td>2014</td>\n",
       "      <td>Sochi</td>\n",
       "      <td>Skiing</td>\n",
       "      <td>Snowboard</td>\n",
       "      <td>MALTAIS, Dominique</td>\n",
       "      <td>CAN</td>\n",
       "      <td>Women</td>\n",
       "      <td>Snowboard Cross</td>\n",
       "      <td>Silver</td>\n",
       "      <td>MALTAIS</td>\n",
       "    </tr>\n",
       "    <tr>\n",
       "      <th>2014_Sochi</th>\n",
       "      <td>2014</td>\n",
       "      <td>Sochi</td>\n",
       "      <td>Skiing</td>\n",
       "      <td>Snowboard</td>\n",
       "      <td>SAMKOVA, Eva</td>\n",
       "      <td>CZE</td>\n",
       "      <td>Women</td>\n",
       "      <td>Snowboard Cross</td>\n",
       "      <td>Gold</td>\n",
       "      <td>SAMKOVA</td>\n",
       "    </tr>\n",
       "    <tr>\n",
       "      <th>2014_Sochi</th>\n",
       "      <td>2014</td>\n",
       "      <td>Sochi</td>\n",
       "      <td>Skiing</td>\n",
       "      <td>Snowboard</td>\n",
       "      <td>TRESPEUCH, Chloe</td>\n",
       "      <td>FRA</td>\n",
       "      <td>Women</td>\n",
       "      <td>Snowboard Cross</td>\n",
       "      <td>Bronze</td>\n",
       "      <td>TRESPEUCH</td>\n",
       "    </tr>\n",
       "  </tbody>\n",
       "</table>\n",
       "<p>36935 rows × 10 columns</p>\n",
       "</div>"
      ],
      "text/plain": [
       "             Year    City     Sport Discipline             Athlete Code  \\\n",
       "Indeks                                                                    \n",
       "1896_Athens  1896  Athens  Aquatics   Swimming       HAJOS, Alfred  HUN   \n",
       "1896_Athens  1896  Athens  Aquatics   Swimming    HERSCHMANN, Otto  AUT   \n",
       "1896_Athens  1896  Athens  Aquatics   Swimming   DRIVAS, Dimitrios  GRE   \n",
       "1896_Athens  1896  Athens  Aquatics   Swimming  MALOKINIS, Ioannis  GRE   \n",
       "1896_Athens  1896  Athens  Aquatics   Swimming  CHASAPIS, Spiridon  GRE   \n",
       "...           ...     ...       ...        ...                 ...  ...   \n",
       "2014_Sochi   2014   Sochi    Skiing  Snowboard        JONES, Jenny  GBR   \n",
       "2014_Sochi   2014   Sochi    Skiing  Snowboard     ANDERSON, Jamie  USA   \n",
       "2014_Sochi   2014   Sochi    Skiing  Snowboard  MALTAIS, Dominique  CAN   \n",
       "2014_Sochi   2014   Sochi    Skiing  Snowboard        SAMKOVA, Eva  CZE   \n",
       "2014_Sochi   2014   Sochi    Skiing  Snowboard    TRESPEUCH, Chloe  FRA   \n",
       "\n",
       "            Gender                       Event   Medal     Surname  \n",
       "Indeks                                                              \n",
       "1896_Athens    Men              100M Freestyle    Gold       HAJOS  \n",
       "1896_Athens    Men              100M Freestyle  Silver  HERSCHMANN  \n",
       "1896_Athens    Men  100M Freestyle For Sailors  Bronze      DRIVAS  \n",
       "1896_Athens    Men  100M Freestyle For Sailors    Gold   MALOKINIS  \n",
       "1896_Athens    Men  100M Freestyle For Sailors  Silver    CHASAPIS  \n",
       "...            ...                         ...     ...         ...  \n",
       "2014_Sochi   Women                  Slopestyle  Bronze       JONES  \n",
       "2014_Sochi   Women                  Slopestyle    Gold    ANDERSON  \n",
       "2014_Sochi   Women             Snowboard Cross  Silver     MALTAIS  \n",
       "2014_Sochi   Women             Snowboard Cross    Gold     SAMKOVA  \n",
       "2014_Sochi   Women             Snowboard Cross  Bronze   TRESPEUCH  \n",
       "\n",
       "[36935 rows x 10 columns]"
      ]
     },
     "execution_count": 83,
     "metadata": {},
     "output_type": "execute_result"
    }
   ],
   "source": [
    "#Let's combine the summer and winter Olympics data sets on a row basis and assign them to the \"olympics\" variable.\n",
    "\n",
    "olympics = summer.merge(winter, how = 'outer')\n",
    "\n",
    "#or\n",
    "\n",
    "pd.merge(summer, winter, how = 'outer')\n",
    "\n",
    "#or\n",
    "\n",
    "pd.concat([summer, winter], axis = 0)"
   ]
  },
  {
   "cell_type": "code",
   "execution_count": 84,
   "id": "491b04eb",
   "metadata": {},
   "outputs": [],
   "source": [
    "#Let's add the country names to the Olympics dataset by using the country codes, matching the country names \n",
    "#from the dataset, and adding it again with the name 'Country'.\n",
    "\n",
    "\n",
    "olympics[\"Country\"] = olympics.merge(tag, on = \"Code\", how=\"left\")[\"Country\"]"
   ]
  },
  {
   "cell_type": "code",
   "execution_count": 85,
   "id": "5b57e83e",
   "metadata": {},
   "outputs": [
    {
     "data": {
      "text/plain": [
       "array(['Albertville', 'Amsterdam', 'Antwerp', 'Athens', 'Atlanta',\n",
       "       'Barcelona', 'Beijing', 'Berlin', 'Calgary', 'Chamonix',\n",
       "       \"Cortina d'Ampezzo\", 'Garmisch Partenkirchen', 'Grenoble',\n",
       "       'Helsinki', 'Innsbruck', 'Lake Placid', 'Lillehammer', 'London',\n",
       "       'Los Angeles', 'Melbourne / Stockholm', 'Mexico', 'Montreal',\n",
       "       'Moscow', 'Munich', 'Nagano', 'Oslo', 'Paris', 'Rome',\n",
       "       'Salt Lake City', 'Sapporo', 'Sarajevo', 'Seoul', 'Sochi',\n",
       "       'Squaw Valley', 'St Louis', 'St.Moritz', 'Stockholm', 'Sydney',\n",
       "       'Tokyo', 'Turin', 'Vancouver'], dtype=object)"
      ]
     },
     "execution_count": 85,
     "metadata": {},
     "output_type": "execute_result"
    }
   ],
   "source": [
    "#Do athletes representing their countries win more medals at the Olympics held in their home countries?\n",
    "\n",
    "countries = pd.DataFrame(olympics.groupby('City')['Country'].value_counts()).rename(columns = {'Country':'Number'}).reset_index()\n",
    "countries['City'].unique()\n",
    "\n"
   ]
  },
  {
   "cell_type": "markdown",
   "id": "346b0a48",
   "metadata": {},
   "source": [
    "In general the U.S. It is the country that has won the most medals in all Olympics. However, in the Olympics held in Japan, Japan is the country that won the most medals after the USA. The same is true for the Olympics held in Norway. Here, neighboring countries such as Sweden and Finland also performed well in terms of medal counts. So audience support and hosting can be a factor."
   ]
  },
  {
   "cell_type": "code",
   "execution_count": 86,
   "id": "2d80f7cd",
   "metadata": {},
   "outputs": [
    {
     "data": {
      "text/html": [
       "<div>\n",
       "<style scoped>\n",
       "    .dataframe tbody tr th:only-of-type {\n",
       "        vertical-align: middle;\n",
       "    }\n",
       "\n",
       "    .dataframe tbody tr th {\n",
       "        vertical-align: top;\n",
       "    }\n",
       "\n",
       "    .dataframe thead th {\n",
       "        text-align: right;\n",
       "    }\n",
       "</style>\n",
       "<table border=\"1\" class=\"dataframe\">\n",
       "  <thead>\n",
       "    <tr style=\"text-align: right;\">\n",
       "      <th></th>\n",
       "      <th>Medal</th>\n",
       "      <th>Population</th>\n",
       "      <th>GDP</th>\n",
       "    </tr>\n",
       "  </thead>\n",
       "  <tbody>\n",
       "    <tr>\n",
       "      <th>Medal</th>\n",
       "      <td>1.000000</td>\n",
       "      <td>0.209118</td>\n",
       "      <td>0.440265</td>\n",
       "    </tr>\n",
       "    <tr>\n",
       "      <th>Population</th>\n",
       "      <td>0.209118</td>\n",
       "      <td>1.000000</td>\n",
       "      <td>-0.042539</td>\n",
       "    </tr>\n",
       "    <tr>\n",
       "      <th>GDP</th>\n",
       "      <td>0.440265</td>\n",
       "      <td>-0.042539</td>\n",
       "      <td>1.000000</td>\n",
       "    </tr>\n",
       "  </tbody>\n",
       "</table>\n",
       "</div>"
      ],
      "text/plain": [
       "               Medal  Population       GDP\n",
       "Medal       1.000000    0.209118  0.440265\n",
       "Population  0.209118    1.000000 -0.042539\n",
       "GDP         0.440265   -0.042539  1.000000"
      ]
     },
     "execution_count": 86,
     "metadata": {},
     "output_type": "execute_result"
    }
   ],
   "source": [
    "#Could there be a relationship between the number of medals won by countries and their gross domestic product?\n",
    "\n",
    "pd.DataFrame(olympics['Country'].value_counts()).reset_index().rename(columns = {'index':'Country', 'Country':'Medal'}).merge(tag, how = 'right').sort_values('Medal',ascending = False)\n",
    "\n",
    "#or\n",
    "\n",
    "olympics.Country.value_counts().to_frame().reset_index().rename(columns={\"index\":\"Country\", \"Country\":\"Medal\"}).merge(tag, on=\"Country\", how=\"right\").sort_values(\"Medal\", ascending = False)\n",
    "\n",
    "#Bonus\n",
    "\n",
    "pd.DataFrame(olympics['Country'].value_counts()).reset_index().rename(columns = {'index':'Country', 'Country':'Medal'}).merge(tag, how = 'right').sort_values('Medal',ascending = False).corr()\n"
   ]
  },
  {
   "cell_type": "markdown",
   "id": "2c5a2932",
   "metadata": {},
   "source": [
    "Successful countries also have very high gross domestic product amounts."
   ]
  },
  {
   "cell_type": "code",
   "execution_count": 87,
   "id": "1550b512",
   "metadata": {},
   "outputs": [
    {
     "data": {
      "text/plain": [
       "Max_GDP       80945.079219\n",
       "Min_GDP         619.169406\n",
       "Median_GDP    13431.878340\n",
       "Avg_GDP       20971.807368\n",
       "Name: GDP, dtype: float64"
      ]
     },
     "execution_count": 87,
     "metadata": {},
     "output_type": "execute_result"
    }
   ],
   "source": [
    "#What is the average, median, minimum and maximum gross domestic product of the countries that won more medals \n",
    "#than the median value of the medals won by the countries?\n",
    "\n",
    "gdp = pd.DataFrame(olympics['Country'].value_counts()).reset_index().rename(columns = {'index':'Country', 'Country':'Medal'}).merge(tag, how = 'right').sort_values('Medal',ascending = False)\n",
    "\n",
    "gdp[gdp['Medal'] > gdp.Medal.median()]['GDP'].agg({'Max_GDP':'max',\n",
    "                                                      'Min_GDP':'min',\n",
    "                                                      'Median_GDP':'median',\n",
    "                                                      'Avg_GDP':'mean'})\n",
    "\n",
    "#or\n",
    "\n",
    "gdp[gdp['Medal'] > gdp.Medal.median()].agg(Max_GDP = ('GDP', max),\n",
    "                                              Min_GDP = ('GDP', min),\n",
    "                                              Median_GDP = ('GDP', np.median),\n",
    "                                              Avg_GDP = ('GDP', np.mean))"
   ]
  },
  {
   "cell_type": "code",
   "execution_count": 89,
   "id": "4aac841a",
   "metadata": {},
   "outputs": [
    {
     "data": {
      "text/plain": [
       "City                   Sport        \n",
       "Athens                 Athletics         1\n",
       "                       Boxing            1\n",
       "                       Taekwondo         1\n",
       "                       Weightlifting     4\n",
       "                       Wrestling         3\n",
       "Atlanta                Boxing            1\n",
       "                       Weightlifting     2\n",
       "                       Wrestling         3\n",
       "Barcelona              Judo              1\n",
       "                       Weightlifting     1\n",
       "                       Wrestling         4\n",
       "Beijing                Athletics         2\n",
       "                       Boxing            1\n",
       "                       Taekwondo         2\n",
       "                       Weightlifting     1\n",
       "                       Wrestling         2\n",
       "Berlin                 Wrestling         2\n",
       "Helsinki               Wrestling         3\n",
       "London                 Athletics         2\n",
       "                       Taekwondo         2\n",
       "                       Wrestling        12\n",
       "Los Angeles            Boxing            2\n",
       "                       Wrestling         1\n",
       "Melbourne / Stockholm  Wrestling         7\n",
       "Mexico                 Wrestling         2\n",
       "Munich                 Wrestling         1\n",
       "Rome                   Wrestling         9\n",
       "Seoul                  Weightlifting     1\n",
       "                       Wrestling         1\n",
       "Sydney                 Judo              1\n",
       "                       Taekwondo         1\n",
       "                       Weightlifting     1\n",
       "                       Wrestling         2\n",
       "Tokyo                  Wrestling         6\n",
       "Name: Medal, dtype: int64"
      ]
     },
     "execution_count": 89,
     "metadata": {},
     "output_type": "execute_result"
    }
   ],
   "source": [
    "#In which city and in which sports branches did Turkey win medals?\n",
    "\n",
    "olympics[olympics.Country == \"Turkey\"].groupby([\"City\", \"Sport\"])[\"Medal\"].size()"
   ]
  },
  {
   "cell_type": "code",
   "execution_count": 90,
   "id": "da49610a",
   "metadata": {},
   "outputs": [
    {
     "data": {
      "text/html": [
       "<div>\n",
       "<style scoped>\n",
       "    .dataframe tbody tr th:only-of-type {\n",
       "        vertical-align: middle;\n",
       "    }\n",
       "\n",
       "    .dataframe tbody tr th {\n",
       "        vertical-align: top;\n",
       "    }\n",
       "\n",
       "    .dataframe thead th {\n",
       "        text-align: right;\n",
       "    }\n",
       "</style>\n",
       "<table border=\"1\" class=\"dataframe\">\n",
       "  <thead>\n",
       "    <tr style=\"text-align: right;\">\n",
       "      <th></th>\n",
       "      <th></th>\n",
       "      <th>Medal_Number</th>\n",
       "    </tr>\n",
       "    <tr>\n",
       "      <th>City</th>\n",
       "      <th>Sport</th>\n",
       "      <th></th>\n",
       "    </tr>\n",
       "  </thead>\n",
       "  <tbody>\n",
       "    <tr>\n",
       "      <th rowspan=\"5\" valign=\"top\">Athens</th>\n",
       "      <th>Athletics</th>\n",
       "      <td>1</td>\n",
       "    </tr>\n",
       "    <tr>\n",
       "      <th>Boxing</th>\n",
       "      <td>1</td>\n",
       "    </tr>\n",
       "    <tr>\n",
       "      <th>Taekwondo</th>\n",
       "      <td>1</td>\n",
       "    </tr>\n",
       "    <tr>\n",
       "      <th>Weightlifting</th>\n",
       "      <td>4</td>\n",
       "    </tr>\n",
       "    <tr>\n",
       "      <th>Wrestling</th>\n",
       "      <td>3</td>\n",
       "    </tr>\n",
       "    <tr>\n",
       "      <th rowspan=\"3\" valign=\"top\">Atlanta</th>\n",
       "      <th>Boxing</th>\n",
       "      <td>1</td>\n",
       "    </tr>\n",
       "    <tr>\n",
       "      <th>Weightlifting</th>\n",
       "      <td>2</td>\n",
       "    </tr>\n",
       "    <tr>\n",
       "      <th>Wrestling</th>\n",
       "      <td>3</td>\n",
       "    </tr>\n",
       "    <tr>\n",
       "      <th rowspan=\"3\" valign=\"top\">Barcelona</th>\n",
       "      <th>Judo</th>\n",
       "      <td>1</td>\n",
       "    </tr>\n",
       "    <tr>\n",
       "      <th>Weightlifting</th>\n",
       "      <td>1</td>\n",
       "    </tr>\n",
       "    <tr>\n",
       "      <th>Wrestling</th>\n",
       "      <td>4</td>\n",
       "    </tr>\n",
       "    <tr>\n",
       "      <th rowspan=\"5\" valign=\"top\">Beijing</th>\n",
       "      <th>Athletics</th>\n",
       "      <td>2</td>\n",
       "    </tr>\n",
       "    <tr>\n",
       "      <th>Boxing</th>\n",
       "      <td>1</td>\n",
       "    </tr>\n",
       "    <tr>\n",
       "      <th>Taekwondo</th>\n",
       "      <td>2</td>\n",
       "    </tr>\n",
       "    <tr>\n",
       "      <th>Weightlifting</th>\n",
       "      <td>1</td>\n",
       "    </tr>\n",
       "    <tr>\n",
       "      <th>Wrestling</th>\n",
       "      <td>2</td>\n",
       "    </tr>\n",
       "    <tr>\n",
       "      <th>Berlin</th>\n",
       "      <th>Wrestling</th>\n",
       "      <td>2</td>\n",
       "    </tr>\n",
       "    <tr>\n",
       "      <th>Helsinki</th>\n",
       "      <th>Wrestling</th>\n",
       "      <td>3</td>\n",
       "    </tr>\n",
       "    <tr>\n",
       "      <th rowspan=\"3\" valign=\"top\">London</th>\n",
       "      <th>Athletics</th>\n",
       "      <td>2</td>\n",
       "    </tr>\n",
       "    <tr>\n",
       "      <th>Taekwondo</th>\n",
       "      <td>2</td>\n",
       "    </tr>\n",
       "    <tr>\n",
       "      <th>Wrestling</th>\n",
       "      <td>12</td>\n",
       "    </tr>\n",
       "    <tr>\n",
       "      <th rowspan=\"2\" valign=\"top\">Los Angeles</th>\n",
       "      <th>Boxing</th>\n",
       "      <td>2</td>\n",
       "    </tr>\n",
       "    <tr>\n",
       "      <th>Wrestling</th>\n",
       "      <td>1</td>\n",
       "    </tr>\n",
       "    <tr>\n",
       "      <th>Melbourne / Stockholm</th>\n",
       "      <th>Wrestling</th>\n",
       "      <td>7</td>\n",
       "    </tr>\n",
       "    <tr>\n",
       "      <th>Mexico</th>\n",
       "      <th>Wrestling</th>\n",
       "      <td>2</td>\n",
       "    </tr>\n",
       "    <tr>\n",
       "      <th>Munich</th>\n",
       "      <th>Wrestling</th>\n",
       "      <td>1</td>\n",
       "    </tr>\n",
       "    <tr>\n",
       "      <th>Rome</th>\n",
       "      <th>Wrestling</th>\n",
       "      <td>9</td>\n",
       "    </tr>\n",
       "    <tr>\n",
       "      <th rowspan=\"2\" valign=\"top\">Seoul</th>\n",
       "      <th>Weightlifting</th>\n",
       "      <td>1</td>\n",
       "    </tr>\n",
       "    <tr>\n",
       "      <th>Wrestling</th>\n",
       "      <td>1</td>\n",
       "    </tr>\n",
       "    <tr>\n",
       "      <th rowspan=\"4\" valign=\"top\">Sydney</th>\n",
       "      <th>Judo</th>\n",
       "      <td>1</td>\n",
       "    </tr>\n",
       "    <tr>\n",
       "      <th>Taekwondo</th>\n",
       "      <td>1</td>\n",
       "    </tr>\n",
       "    <tr>\n",
       "      <th>Weightlifting</th>\n",
       "      <td>1</td>\n",
       "    </tr>\n",
       "    <tr>\n",
       "      <th>Wrestling</th>\n",
       "      <td>2</td>\n",
       "    </tr>\n",
       "    <tr>\n",
       "      <th>Tokyo</th>\n",
       "      <th>Wrestling</th>\n",
       "      <td>6</td>\n",
       "    </tr>\n",
       "  </tbody>\n",
       "</table>\n",
       "</div>"
      ],
      "text/plain": [
       "                                     Medal_Number\n",
       "City                  Sport                      \n",
       "Athens                Athletics                 1\n",
       "                      Boxing                    1\n",
       "                      Taekwondo                 1\n",
       "                      Weightlifting             4\n",
       "                      Wrestling                 3\n",
       "Atlanta               Boxing                    1\n",
       "                      Weightlifting             2\n",
       "                      Wrestling                 3\n",
       "Barcelona             Judo                      1\n",
       "                      Weightlifting             1\n",
       "                      Wrestling                 4\n",
       "Beijing               Athletics                 2\n",
       "                      Boxing                    1\n",
       "                      Taekwondo                 2\n",
       "                      Weightlifting             1\n",
       "                      Wrestling                 2\n",
       "Berlin                Wrestling                 2\n",
       "Helsinki              Wrestling                 3\n",
       "London                Athletics                 2\n",
       "                      Taekwondo                 2\n",
       "                      Wrestling                12\n",
       "Los Angeles           Boxing                    2\n",
       "                      Wrestling                 1\n",
       "Melbourne / Stockholm Wrestling                 7\n",
       "Mexico                Wrestling                 2\n",
       "Munich                Wrestling                 1\n",
       "Rome                  Wrestling                 9\n",
       "Seoul                 Weightlifting             1\n",
       "                      Wrestling                 1\n",
       "Sydney                Judo                      1\n",
       "                      Taekwondo                 1\n",
       "                      Weightlifting             1\n",
       "                      Wrestling                 2\n",
       "Tokyo                 Wrestling                 6"
      ]
     },
     "execution_count": 90,
     "metadata": {},
     "output_type": "execute_result"
    }
   ],
   "source": [
    "#or\n",
    "olympics[olympics['Country'] == 'Turkey'].groupby(['City', 'Sport']).agg(Medal_Number = ('Medal', lambda x: x.count()))"
   ]
  },
  {
   "cell_type": "markdown",
   "id": "26794436",
   "metadata": {},
   "source": [
    "### Gross Domestic Product Distribution of Countries"
   ]
  },
  {
   "cell_type": "code",
   "execution_count": 91,
   "id": "2e41a170",
   "metadata": {},
   "outputs": [
    {
     "data": {
      "text/plain": [
       "<AxesSubplot:>"
      ]
     },
     "execution_count": 91,
     "metadata": {},
     "output_type": "execute_result"
    },
    {
     "data": {
      "image/png": "[encoded data removed]",
      "text/plain": [
       "<Figure size 432x288 with 1 Axes>"
      ]
     },
     "metadata": {
      "needs_background": "light"
     },
     "output_type": "display_data"
    }
   ],
   "source": [
    "tag.GDP.hist()"
   ]
  },
  {
   "cell_type": "code",
   "execution_count": 92,
   "id": "f129b190",
   "metadata": {},
   "outputs": [
    {
     "data": {
      "text/plain": [
       "<AxesSubplot:xlabel='GDP', ylabel='Medals'>"
      ]
     },
     "execution_count": 92,
     "metadata": {},
     "output_type": "execute_result"
    },
    {
     "data": {
      "image/png": "[encoded data removed]",
      "text/plain": [
       "<Figure size 432x288 with 1 Axes>"
      ]
     },
     "metadata": {
      "needs_background": "light"
     },
     "output_type": "display_data"
    }
   ],
   "source": [
    "#Scatterplot showing the relationship between the number of medals won by countries and their gross domestic product\n",
    "\n",
    "gdp_medal = pd.DataFrame(olympics['Country'].value_counts()).reset_index().rename(columns = {'index':'Country', 'Country':'Medals'}).merge(tag, how = 'right').sort_values('Medals',ascending = False)\n",
    "gdp_medal.plot(x = 'GDP', y = 'Medals', kind = 'scatter')"
   ]
  }
 ],
 "metadata": {
  "kernelspec": {
   "display_name": "Python 3",
   "language": "python",
   "name": "python3"
  },
  "language_info": {
   "codemirror_mode": {
    "name": "ipython",
    "version": 3
   },
   "file_extension": ".py",
   "mimetype": "text/x-python",
   "name": "python",
   "nbconvert_exporter": "python",
   "pygments_lexer": "ipython3",
   "version": "3.8.8"
  }
 },
 "nbformat": 4,
 "nbformat_minor": 5
}
